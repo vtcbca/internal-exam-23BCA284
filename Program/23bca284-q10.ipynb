{
 "cells": [
  {
   "cell_type": "markdown",
   "id": "8df6098e",
   "metadata": {},
   "source": [
    "10.  Create table cricketer(cid, cname, match, run) and insert 8 players records. Print player records with average.  and write this data into player.csv file. Do all this task from python."
   ]
  },
  {
   "cell_type": "code",
   "execution_count": 2,
   "id": "de944015",
   "metadata": {},
   "outputs": [],
   "source": [
    "import sqlite3 as sq"
   ]
  },
  {
   "cell_type": "code",
   "execution_count": 3,
   "id": "71b52e60",
   "metadata": {},
   "outputs": [],
   "source": [
    "con=sq.connect(\"D:/23BCA284/sqlite3/database/cricket.db\")"
   ]
  },
  {
   "cell_type": "code",
   "execution_count": 4,
   "id": "c900047e",
   "metadata": {},
   "outputs": [],
   "source": [
    "c=con.cursor()"
   ]
  },
  {
   "cell_type": "markdown",
   "id": "15433b56",
   "metadata": {},
   "source": [
    "## create the cricketer table"
   ]
  },
  {
   "cell_type": "code",
   "execution_count": 6,
   "id": "b5b1187a",
   "metadata": {},
   "outputs": [
    {
     "data": {
      "text/plain": [
       "<sqlite3.Cursor at 0x23ff23a61f0>"
      ]
     },
     "execution_count": 6,
     "metadata": {},
     "output_type": "execute_result"
    }
   ],
   "source": [
    "c.execute(\"create table if not exists  cricketer(cid,cname,match,run)\")"
   ]
  },
  {
   "cell_type": "markdown",
   "id": "663fa8e0",
   "metadata": {},
   "source": [
    "## Insert player records into the table"
   ]
  },
  {
   "cell_type": "code",
   "execution_count": 7,
   "id": "cf69dbfd",
   "metadata": {},
   "outputs": [],
   "source": [
    "players = [\n",
    "    (1, 'Player1', 10, 150),\n",
    "    (2, 'Player2', 12, 180),\n",
    "    (3, 'Player3', 8, 200),\n",
    "    (4, 'Player4', 15, 130),\n",
    "    (5, 'Player5', 11, 170),\n",
    "    (6, 'Player6', 9, 160),\n",
    "    (7, 'Player7', 14, 140),\n",
    "    (8, 'Player8', 13, 190)\n",
    "]"
   ]
  },
  {
   "cell_type": "code",
   "execution_count": 8,
   "id": "1e74c232",
   "metadata": {},
   "outputs": [
    {
     "data": {
      "text/plain": [
       "<sqlite3.Cursor at 0x23ff23a61f0>"
      ]
     },
     "execution_count": 8,
     "metadata": {},
     "output_type": "execute_result"
    }
   ],
   "source": [
    "c.executemany('INSERT INTO cricketer (cid, cname, match, run) VALUES (?, ?, ?, ?)', players)"
   ]
  },
  {
   "cell_type": "code",
   "execution_count": 10,
   "id": "9024fb5a",
   "metadata": {},
   "outputs": [],
   "source": [
    "con.commit()"
   ]
  },
  {
   "cell_type": "markdown",
   "id": "48600ce5",
   "metadata": {},
   "source": [
    "## fetch player data with average runs per match"
   ]
  },
  {
   "cell_type": "code",
   "execution_count": 12,
   "id": "4c6ee221",
   "metadata": {},
   "outputs": [
    {
     "name": "stdout",
     "output_type": "stream",
     "text": [
      "[('Player1', 10, 150, 15.0), ('Player2', 12, 180, 15.0), ('Player3', 8, 200, 25.0), ('Player4', 15, 130, 8.666666666666666), ('Player5', 11, 170, 15.454545454545455), ('Player6', 9, 160, 17.77777777777778), ('Player7', 14, 140, 10.0), ('Player8', 13, 190, 14.615384615384615)]\n"
     ]
    }
   ],
   "source": [
    "c.execute(\"select cname, match, run, (run * 1.0 / match) as average from cricketer\")\n",
    "rec=c.fetchall()\n",
    "print(rec)"
   ]
  },
  {
   "cell_type": "code",
   "execution_count": 19,
   "id": "9cfee354",
   "metadata": {},
   "outputs": [],
   "source": [
    "query =\"select cname, match, run, (run * 1.0 / match) as average from cricketer\""
   ]
  },
  {
   "cell_type": "code",
   "execution_count": 20,
   "id": "2799f8bc",
   "metadata": {},
   "outputs": [
    {
     "data": {
      "text/plain": [
       "<sqlite3.Cursor at 0x23ff23a61f0>"
      ]
     },
     "execution_count": 20,
     "metadata": {},
     "output_type": "execute_result"
    }
   ],
   "source": [
    "c.execute(query)"
   ]
  },
  {
   "cell_type": "code",
   "execution_count": 21,
   "id": "99009456",
   "metadata": {},
   "outputs": [
    {
     "name": "stdout",
     "output_type": "stream",
     "text": [
      "[('Player1', 10, 150, 15.0), ('Player2', 12, 180, 15.0), ('Player3', 8, 200, 25.0), ('Player4', 15, 130, 8.666666666666666), ('Player5', 11, 170, 15.454545454545455), ('Player6', 9, 160, 17.77777777777778), ('Player7', 14, 140, 10.0), ('Player8', 13, 190, 14.615384615384615)]\n"
     ]
    }
   ],
   "source": [
    "rec=c.fetchall()\n",
    "print(rec)"
   ]
  },
  {
   "cell_type": "code",
   "execution_count": 17,
   "id": "e61e9c36",
   "metadata": {},
   "outputs": [],
   "source": [
    "import pandas as pd"
   ]
  },
  {
   "cell_type": "markdown",
   "id": "bdd507a8",
   "metadata": {},
   "source": [
    "# Read the data into a pandas DataFrame\n"
   ]
  },
  {
   "cell_type": "code",
   "execution_count": 22,
   "id": "90c9b0ac",
   "metadata": {},
   "outputs": [],
   "source": [
    "df = pd.read_sql_query(query, con)"
   ]
  },
  {
   "cell_type": "code",
   "execution_count": 23,
   "id": "8e2fa779",
   "metadata": {},
   "outputs": [
    {
     "name": "stdout",
     "output_type": "stream",
     "text": [
      "     cname  match  run    average\n",
      "0  Player1     10  150  15.000000\n",
      "1  Player2     12  180  15.000000\n",
      "2  Player3      8  200  25.000000\n",
      "3  Player4     15  130   8.666667\n",
      "4  Player5     11  170  15.454545\n",
      "5  Player6      9  160  17.777778\n",
      "6  Player7     14  140  10.000000\n",
      "7  Player8     13  190  14.615385\n"
     ]
    }
   ],
   "source": [
    "print(df)"
   ]
  },
  {
   "cell_type": "markdown",
   "id": "6b87d35f",
   "metadata": {},
   "source": [
    "## Write the DataFrame to a CSV file"
   ]
  },
  {
   "cell_type": "code",
   "execution_count": 29,
   "id": "d1d7e1bb",
   "metadata": {},
   "outputs": [],
   "source": [
    "df.to_csv('player.csv', index=False)"
   ]
  },
  {
   "cell_type": "code",
   "execution_count": 30,
   "id": "e6a15ea1",
   "metadata": {},
   "outputs": [],
   "source": [
    "con.close()"
   ]
  },
  {
   "cell_type": "code",
   "execution_count": null,
   "id": "3d262937",
   "metadata": {},
   "outputs": [],
   "source": []
  }
 ],
 "metadata": {
  "kernelspec": {
   "display_name": "Python 3 (ipykernel)",
   "language": "python",
   "name": "python3"
  },
  "language_info": {
   "codemirror_mode": {
    "name": "ipython",
    "version": 3
   },
   "file_extension": ".py",
   "mimetype": "text/x-python",
   "name": "python",
   "nbconvert_exporter": "python",
   "pygments_lexer": "ipython3",
   "version": "3.9.12"
  }
 },
 "nbformat": 4,
 "nbformat_minor": 5
}
