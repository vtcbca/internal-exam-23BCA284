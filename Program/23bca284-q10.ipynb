{
 "cells": [
  {
   "cell_type": "markdown",
   "id": "5321db62",
   "metadata": {},
   "source": [
    "10.  Create table cricketer(cid, cname, match, run) and insert 8 players records. Print player records with average.  and write this data into player.csv file. Do all this task from python."
   ]
  },
  {
   "cell_type": "code",
   "execution_count": 2,
   "id": "a755d582",
   "metadata": {},
   "outputs": [],
   "source": [
    "import sqlite3 as sq"
   ]
  },
  {
   "cell_type": "code",
   "execution_count": 3,
   "id": "8a26a7f0",
   "metadata": {},
   "outputs": [],
   "source": [
    "con=sq.connect(\"D:/23BCA284/sqlite3/database/cricket.db\")"
   ]
  },
  {
   "cell_type": "code",
   "execution_count": 4,
   "id": "86e6dbfd",
   "metadata": {},
   "outputs": [],
   "source": [
    "c=con.cursor()"
   ]
  },
  {
   "cell_type": "markdown",
   "id": "726672e6",
   "metadata": {},
   "source": [
    "## create the cricketer table"
   ]
  },
  {
   "cell_type": "code",
   "execution_count": 6,
   "id": "05cb395c",
   "metadata": {},
   "outputs": [
    {
     "data": {
      "text/plain": [
       "<sqlite3.Cursor at 0x23ff23a61f0>"
      ]
     },
     "execution_count": 6,
     "metadata": {},
     "output_type": "execute_result"
    }
   ],
   "source": [
    "c.execute(\"create table if not exists  cricketer(cid,cname,match,run)\")"
   ]
  },
  {
   "cell_type": "markdown",
   "id": "24a5fc6a",
   "metadata": {},
   "source": [
    "## Insert player records into the table"
   ]
  },
  {
   "cell_type": "code",
   "execution_count": 7,
   "id": "71c16096",
   "metadata": {},
   "outputs": [],
   "source": [
    "players = [\n",
    "    (1, 'Player1', 10, 150),\n",
    "    (2, 'Player2', 12, 180),\n",
    "    (3, 'Player3', 8, 200),\n",
    "    (4, 'Player4', 15, 130),\n",
    "    (5, 'Player5', 11, 170),\n",
    "    (6, 'Player6', 9, 160),\n",
    "    (7, 'Player7', 14, 140),\n",
    "    (8, 'Player8', 13, 190)\n",
    "]"
   ]
  },
  {
   "cell_type": "code",
   "execution_count": 8,
   "id": "f90c9253",
   "metadata": {},
   "outputs": [
    {
     "data": {
      "text/plain": [
       "<sqlite3.Cursor at 0x23ff23a61f0>"
      ]
     },
     "execution_count": 8,
     "metadata": {},
     "output_type": "execute_result"
    }
   ],
   "source": [
    "c.executemany('INSERT INTO cricketer (cid, cname, match, run) VALUES (?, ?, ?, ?)', players)"
   ]
  },
  {
   "cell_type": "code",
   "execution_count": 10,
   "id": "e1be4b44",
   "metadata": {},
   "outputs": [],
   "source": [
    "con.commit()"
   ]
  },
  {
   "cell_type": "markdown",
   "id": "42880766",
   "metadata": {},
   "source": [
    "## fetch player data with average runs per match"
   ]
  },
  {
   "cell_type": "code",
   "execution_count": 12,
   "id": "c87b064e",
   "metadata": {},
   "outputs": [
    {
     "name": "stdout",
     "output_type": "stream",
     "text": [
      "[('Player1', 10, 150, 15.0), ('Player2', 12, 180, 15.0), ('Player3', 8, 200, 25.0), ('Player4', 15, 130, 8.666666666666666), ('Player5', 11, 170, 15.454545454545455), ('Player6', 9, 160, 17.77777777777778), ('Player7', 14, 140, 10.0), ('Player8', 13, 190, 14.615384615384615)]\n"
     ]
    }
   ],
   "source": [
    "c.execute(\"select cname, match, run, (run * 1.0 / match) as average from cricketer\")\n",
    "rec=c.fetchall()\n",
    "print(rec)"
   ]
  },
  {
   "cell_type": "code",
   "execution_count": 19,
   "id": "dff8f15c",
   "metadata": {},
   "outputs": [],
   "source": [
    "query =\"select cname, match, run, (run * 1.0 / match) as average from cricketer\""
   ]
  },
  {
   "cell_type": "code",
   "execution_count": 20,
   "id": "3c7e3240",
   "metadata": {},
   "outputs": [
    {
     "data": {
      "text/plain": [
       "<sqlite3.Cursor at 0x23ff23a61f0>"
      ]
     },
     "execution_count": 20,
     "metadata": {},
     "output_type": "execute_result"
    }
   ],
   "source": [
    "c.execute(query)"
   ]
  },
  {
   "cell_type": "code",
   "execution_count": 21,
   "id": "655e179e",
   "metadata": {},
   "outputs": [
    {
     "name": "stdout",
     "output_type": "stream",
     "text": [
      "[('Player1', 10, 150, 15.0), ('Player2', 12, 180, 15.0), ('Player3', 8, 200, 25.0), ('Player4', 15, 130, 8.666666666666666), ('Player5', 11, 170, 15.454545454545455), ('Player6', 9, 160, 17.77777777777778), ('Player7', 14, 140, 10.0), ('Player8', 13, 190, 14.615384615384615)]\n"
     ]
    }
   ],
   "source": [
    "rec=c.fetchall()\n",
    "print(rec)"
   ]
  },
  {
   "cell_type": "code",
   "execution_count": 31,
   "id": "8c998d4f",
   "metadata": {},
   "outputs": [],
   "source": [
    "import csv"
   ]
  },
  {
   "cell_type": "code",
   "execution_count": 39,
   "id": "5087f54c",
   "metadata": {},
   "outputs": [],
   "source": [
    "players = [\n",
    "    ('cid','cname','match','run','average'),\n",
    "    (1, 'Player1', 10, 150,15.0),\n",
    "    (2, 'Player2', 12, 180,15.0),\n",
    "    (3, 'Player3', 8, 200,25.0),\n",
    "    (4, 'Player4', 15, 130,8.666),\n",
    "    (5, 'Player5', 11, 170,15.45),\n",
    "    (6, 'Player6', 9, 160,17.77),\n",
    "    (7, 'Player7', 14, 140,10.0),\n",
    "    (8, 'Player8', 13, 190, 14.615)]"
   ]
  },
  {
   "cell_type": "code",
   "execution_count": 40,
   "id": "7cf4bfe3",
   "metadata": {},
   "outputs": [],
   "source": [
    "with open('D:/23BCA284/sqlite3/csv/player.csv','w') as f:\n",
    "    w=csv.writer(f)\n",
    "    w.writerows(players)  \n",
    "    "
   ]
  },
  {
   "cell_type": "code",
   "execution_count": 44,
   "id": "a3fc0bf5",
   "metadata": {},
   "outputs": [
    {
     "name": "stdout",
     "output_type": "stream",
     "text": [
      "['cid', 'cname', 'match', 'run', 'average']\n",
      "[]\n",
      "['1', 'Player1', '10', '150', '15.0']\n",
      "[]\n",
      "['2', 'Player2', '12', '180', '15.0']\n",
      "[]\n",
      "['3', 'Player3', '8', '200', '25.0']\n",
      "[]\n",
      "['4', 'Player4', '15', '130', '8.666']\n",
      "[]\n",
      "['5', 'Player5', '11', '170', '15.45']\n",
      "[]\n",
      "['6', 'Player6', '9', '160', '17.77']\n",
      "[]\n",
      "['7', 'Player7', '14', '140', '10.0']\n",
      "[]\n",
      "['8', 'Player8', '13', '190', '14.615']\n",
      "[]\n"
     ]
    }
   ],
   "source": [
    "with open('D:/23BCA284/sqlite3/csv/player.csv','r') as f:\n",
    "    r=csv.reader(f)\n",
    "    for row in r:\n",
    "        print(row)"
   ]
  },
  {
   "cell_type": "code",
   "execution_count": null,
   "id": "0f57bf95",
   "metadata": {},
   "outputs": [],
   "source": []
  }
 ],
 "metadata": {
  "kernelspec": {
   "display_name": "Python 3 (ipykernel)",
   "language": "python",
   "name": "python3"
  },
  "language_info": {
   "codemirror_mode": {
    "name": "ipython",
    "version": 3
   },
   "file_extension": ".py",
   "mimetype": "text/x-python",
   "name": "python",
   "nbconvert_exporter": "python",
   "pygments_lexer": "ipython3",
   "version": "3.9.12"
  }
 },
 "nbformat": 4,
 "nbformat_minor": 5
}
